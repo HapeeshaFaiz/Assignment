{
 "cells": [
  {
   "cell_type": "code",
   "execution_count": 25,
   "id": "53e6c6f0-805e-48d2-927a-c87ac5c1f2e3",
   "metadata": {},
   "outputs": [],
   "source": [
    "class SubfieldsInAI():\n",
    "    def Subfields():\n",
    "        \n",
    "        print (\"Sub-fields in Al are:\")\n",
    "        Ai = [\"Machine Learning\",\"Neural Networks\",\"Vision\",\"Robotics\",\"Speech Processing\",\"Natural Language Processing\"]\n",
    "        for ai in Ai:\n",
    "               print(ai)\n",
    "    "
   ]
  },
  {
   "cell_type": "code",
   "execution_count": 27,
   "id": "fa4037bd-8122-4f5e-b8fc-1abd1673f526",
   "metadata": {},
   "outputs": [
    {
     "name": "stdout",
     "output_type": "stream",
     "text": [
      "Sub-fields in Al are:\n",
      "Machine Learning\n",
      "Neural Networks\n",
      "Vision\n",
      "Robotics\n",
      "Speech Processing\n",
      "Natural Language Processing\n"
     ]
    }
   ],
   "source": [
    "SubfieldsInAI.Subfields()"
   ]
  },
  {
   "cell_type": "code",
   "execution_count": 37,
   "id": "f9b37431-314e-4cfa-8d3b-3a2db380993a",
   "metadata": {},
   "outputs": [],
   "source": [
    "class OddEven():\n",
    "    def OddEven():  \n",
    "         x= int(input(\"Enter a number: \"))\n",
    "         if(x%2 == 0):\n",
    "             print(\"%d is Even number\"%x)\n",
    "         else:\n",
    "            print(\"%d is Odd number\"%x)"
   ]
  },
  {
   "cell_type": "code",
   "execution_count": 39,
   "id": "d77e1a57-a872-4229-9069-1b2bf1e5b196",
   "metadata": {},
   "outputs": [
    {
     "name": "stdin",
     "output_type": "stream",
     "text": [
      "Enter a number:  52452\n"
     ]
    },
    {
     "name": "stdout",
     "output_type": "stream",
     "text": [
      "52452 is Even number\n"
     ]
    }
   ],
   "source": [
    "OddEven.OddEven()"
   ]
  },
  {
   "cell_type": "code",
   "execution_count": 141,
   "id": "cedb15bf-952e-446f-9f41-19f71a195db2",
   "metadata": {},
   "outputs": [],
   "source": [
    "class ElegiblityForMarriage():\n",
    "    def Elegible():\n",
    "        gender = input(\"Your Gender: \")\n",
    "        age = int(input(\"Your Age: \"))  \n",
    "        \n",
    "        if age < 21 and gender == \"Male\":  \n",
    "            print(\"NOT ELIGIBLE\")  \n",
    "        elif age >= 21 and gender == \"Male\":  \n",
    "            print(\"ELIGIBLE\")  \n",
    "        elif age < 18 and gender == \"Female\":  \n",
    "            print(\"NOT ELIGIBLE\")  \n",
    "        elif age >= 18 and gender == \"Female\":  \n",
    "            print(\"ELIGIBLE\")  \n",
    "        else:  \n",
    "            print(\"INCORRECT INPUT\")"
   ]
  },
  {
   "cell_type": "code",
   "execution_count": 143,
   "id": "103d5c45-8a02-430a-a948-733558562948",
   "metadata": {},
   "outputs": [
    {
     "name": "stdin",
     "output_type": "stream",
     "text": [
      "Your Gender:  Male\n",
      "Your Age:  20\n"
     ]
    },
    {
     "name": "stdout",
     "output_type": "stream",
     "text": [
      "NOT ELIGIBLE\n"
     ]
    }
   ],
   "source": [
    "ElegiblityForMarriage.Elegible()"
   ]
  },
  {
   "cell_type": "code",
   "execution_count": 179,
   "id": "5cc56bc6-23dd-4e11-9e55-2cf00c972b55",
   "metadata": {},
   "outputs": [],
   "source": [
    "class FindPercent():\n",
    "    def percentage():\n",
    "        sub01= int(input(\"Subject1=\"))\n",
    "        sub02= int(input(\"Subject2=\"))\n",
    "        sub03= int(input(\"Subject3=\"))\n",
    "        sub04= int(input(\"Subject4=\"))\n",
    "        sub05= int(input(\"Subject5=\"))\n",
    "        subj= sub01+sub02+sub03+sub04+sub05\n",
    "        print(\"Total:%d\"%subj)\n",
    "        per= subj//5\n",
    "        print(\"Percentage:%.16f\"%per)"
   ]
  },
  {
   "cell_type": "code",
   "execution_count": 181,
   "id": "51a0548e-e89e-4524-8db1-ea4e2e241770",
   "metadata": {},
   "outputs": [
    {
     "name": "stdin",
     "output_type": "stream",
     "text": [
      "Subject1= 98\n",
      "Subject2= 87\n",
      "Subject3= 95\n",
      "Subject4= 95\n",
      "Subject5= 93\n"
     ]
    },
    {
     "name": "stdout",
     "output_type": "stream",
     "text": [
      "Total:468\n",
      "Percentage:93.0000000000000000\n"
     ]
    }
   ],
   "source": [
    "FindPercent.percentage()"
   ]
  },
  {
   "cell_type": "code",
   "execution_count": 193,
   "id": "9a3e8c9a-d456-4231-a925-23e34793ebbd",
   "metadata": {},
   "outputs": [
    {
     "name": "stdin",
     "output_type": "stream",
     "text": [
      "Height: 32\n",
      "Breadth: 34\n"
     ]
    },
    {
     "name": "stdout",
     "output_type": "stream",
     "text": [
      "Area formula: (Height* Breadth)/2\n",
      "Area of Triangle:544.0\n"
     ]
    },
    {
     "name": "stdin",
     "output_type": "stream",
     "text": [
      "Height1: 1\n",
      "Height2: 4\n",
      "Breadth: 4\n"
     ]
    },
    {
     "name": "stdout",
     "output_type": "stream",
     "text": [
      "Perimeter formula: Height1+Height2+Breadt\n",
      "Perimeter of Triangle:9\n"
     ]
    }
   ],
   "source": [
    "class \n",
    "def triangle():\n",
    "    Height= int(input(\"Height:\"))\n",
    "    Breadt= int(input(\"Breadth:\"))\n",
    "    print(\"Area formula: (Height* Breadth)/2\")\n",
    "    area= (Height * Breadt)//2\n",
    "    print(\"Area of Triangle:%.1f\"%area)\n",
    "    Height1= int(input(\"Height1:\"))\n",
    "    Height2= int(input(\"Height2:\"))\n",
    "    Breadth= int(input(\"Breadth:\"))\n",
    "    Perimeter_formula= Height1+Height2+Breadth\n",
    "    print(\"Perimeter formula: Height1+Height2+Breadth\")\n",
    "    print(\"Perimeter of Triangle:%d\"%Perimeter_formula)\n"
   ]
  },
  {
   "cell_type": "code",
   "execution_count": null,
   "id": "33ed6dae-f0b1-4135-acf1-6473d77281a4",
   "metadata": {},
   "outputs": [],
   "source": []
  }
 ],
 "metadata": {
  "kernelspec": {
   "display_name": "Python [conda env:base] *",
   "language": "python",
   "name": "conda-base-py"
  },
  "language_info": {
   "codemirror_mode": {
    "name": "ipython",
    "version": 3
   },
   "file_extension": ".py",
   "mimetype": "text/x-python",
   "name": "python",
   "nbconvert_exporter": "python",
   "pygments_lexer": "ipython3",
   "version": "3.12.7"
  }
 },
 "nbformat": 4,
 "nbformat_minor": 5
}
